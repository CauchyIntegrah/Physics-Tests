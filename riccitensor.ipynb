{
 "cells": [
  {
   "cell_type": "code",
   "execution_count": 1,
   "id": "1867e77f-0165-4109-bfba-dbc05ea2dd91",
   "metadata": {},
   "outputs": [
    {
     "data": {
      "text/latex": [
       "$\\displaystyle \\left[\\begin{matrix}0 & 0 & 0 & 0\\\\0 & 0 & 0 & 0\\\\0 & 0 & 0 & 0\\\\0 & 0 & 0 & 0\\end{matrix}\\right]$"
      ],
      "text/plain": [
       "Matrix([\n",
       "[0, 0, 0, 0],\n",
       "[0, 0, 0, 0],\n",
       "[0, 0, 0, 0],\n",
       "[0, 0, 0, 0]])"
      ]
     },
     "execution_count": 1,
     "metadata": {},
     "output_type": "execute_result"
    }
   ],
   "source": [
    "import sympy as sp\n",
    "\n",
    "# Define the coordinates\n",
    "t, x, y, z = sp.symbols('t x y z')\n",
    "coords = [t, x, y, z]\n",
    "\n",
    "# Define the metric tensor\n",
    "g = sp.Matrix([[1, 0, 0, 0],\n",
    "               [0, -1, 0, 0],\n",
    "               [0, 0, -1, 0],\n",
    "               [0, 0, 0, -1]])\n",
    "\n",
    "# Compute the inverse of the metric tensor\n",
    "g_inv = g.inv()\n",
    "\n",
    "# Christoffel symbols\n",
    "Gamma = sp.MutableDenseNDimArray([[[0 for k in range(4)] for j in range(4)] for i in range(4)])\n",
    "\n",
    "for rho in range(4):\n",
    "    for mu in range(4):\n",
    "        for nu in range(4):\n",
    "            Gamma[rho, mu, nu] = sp.Rational(1, 2) * sum([g_inv[rho, lambda_] * \n",
    "                (sp.diff(g[lambda_, nu], coords[mu]) + sp.diff(g[lambda_, mu], coords[nu]) - sp.diff(g[mu, nu], coords[lambda_])) \n",
    "                for lambda_ in range(4)])\n",
    "\n",
    "# Riemann curvature tensor\n",
    "Riemann = sp.MutableDenseNDimArray([[[[0 for l in range(4)] for k in range(4)] for j in range(4)] for i in range(4)])\n",
    "\n",
    "for rho in range(4):\n",
    "    for sigma in range(4):\n",
    "        for mu in range(4):\n",
    "            for nu in range(4):\n",
    "                Riemann[rho, sigma, mu, nu] = (sp.diff(Gamma[rho, nu, sigma], coords[mu]) -\n",
    "                                               sp.diff(Gamma[rho, mu, sigma], coords[nu]) +\n",
    "                                               sum([Gamma[rho, mu, lambda_] * Gamma[lambda_, nu, sigma] for lambda_ in range(4)]) -\n",
    "                                               sum([Gamma[rho, nu, lambda_] * Gamma[lambda_, mu, sigma] for lambda_ in range(4)]))\n",
    "\n",
    "# Ricci tensor\n",
    "Ricci = sp.Matrix([[0 for i in range(4)] for j in range(4)])\n",
    "\n",
    "for mu in range(4):\n",
    "    for nu in range(4):\n",
    "        Ricci[mu, nu] = sum([Riemann[rho, mu, rho, nu] for rho in range(4)])\n",
    "\n",
    "Ricci\n"
   ]
  },
  {
   "cell_type": "code",
   "execution_count": null,
   "id": "1f4bb518-30da-4fab-ae40-5cc95ad81775",
   "metadata": {},
   "outputs": [],
   "source": []
  }
 ],
 "metadata": {
  "kernelspec": {
   "display_name": "Python 3 (ipykernel)",
   "language": "python",
   "name": "python3"
  },
  "language_info": {
   "codemirror_mode": {
    "name": "ipython",
    "version": 3
   },
   "file_extension": ".py",
   "mimetype": "text/x-python",
   "name": "python",
   "nbconvert_exporter": "python",
   "pygments_lexer": "ipython3",
   "version": "3.12.4"
  }
 },
 "nbformat": 4,
 "nbformat_minor": 5
}
